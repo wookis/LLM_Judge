{
 "cells": [
  {
   "cell_type": "markdown",
   "id": "26850579",
   "metadata": {},
   "source": [
    "### import"
   ]
  },
  {
   "cell_type": "code",
   "execution_count": 77,
   "id": "f571da38",
   "metadata": {},
   "outputs": [],
   "source": [
    "\n",
    "from pathlib import Path\n",
    "import pandas as pd\n",
    "import numpy as np\n",
    "from utils.logger import logger\n",
    "from functools import reduce\n",
    "from ast import literal_eval\n",
    "\n",
    "\n",
    "import itertools\n",
    "from tqdm import tqdm\n",
    "import matplotlib.pyplot as plt\n",
    "import seaborn as sns\n",
    "\n",
    "import json\n",
    "import re\n",
    "\n",
    "\n"
   ]
  },
  {
   "cell_type": "markdown",
   "id": "c37a14d5",
   "metadata": {},
   "source": [
    "## 1. 데이터 가공"
   ]
  },
  {
   "cell_type": "markdown",
   "id": "fcde6a0c",
   "metadata": {},
   "source": [
    "### 파일읽기"
   ]
  },
  {
   "cell_type": "code",
   "execution_count": 333,
   "id": "4b2c953d",
   "metadata": {},
   "outputs": [
    {
     "data": {
      "text/html": [
       "<div>\n",
       "<style scoped>\n",
       "    .dataframe tbody tr th:only-of-type {\n",
       "        vertical-align: middle;\n",
       "    }\n",
       "\n",
       "    .dataframe tbody tr th {\n",
       "        vertical-align: top;\n",
       "    }\n",
       "\n",
       "    .dataframe thead th {\n",
       "        text-align: right;\n",
       "    }\n",
       "</style>\n",
       "<table border=\"1\" class=\"dataframe\">\n",
       "  <thead>\n",
       "    <tr style=\"text-align: right;\">\n",
       "      <th></th>\n",
       "      <th>no</th>\n",
       "      <th>domain</th>\n",
       "      <th>task</th>\n",
       "      <th>level</th>\n",
       "      <th>model</th>\n",
       "      <th>token</th>\n",
       "      <th>score</th>\n",
       "    </tr>\n",
       "  </thead>\n",
       "  <tbody>\n",
       "    <tr>\n",
       "      <th>0</th>\n",
       "      <td>1</td>\n",
       "      <td>D7</td>\n",
       "      <td>T9</td>\n",
       "      <td>L1</td>\n",
       "      <td>midm-mini-inst</td>\n",
       "      <td>537</td>\n",
       "      <td>1.50</td>\n",
       "    </tr>\n",
       "    <tr>\n",
       "      <th>1</th>\n",
       "      <td>2</td>\n",
       "      <td>D8</td>\n",
       "      <td>T6</td>\n",
       "      <td>L1</td>\n",
       "      <td>midm-mini-inst</td>\n",
       "      <td>651</td>\n",
       "      <td>3.05</td>\n",
       "    </tr>\n",
       "    <tr>\n",
       "      <th>2</th>\n",
       "      <td>3</td>\n",
       "      <td>D5</td>\n",
       "      <td>T9</td>\n",
       "      <td>L1</td>\n",
       "      <td>midm-mini-inst</td>\n",
       "      <td>551</td>\n",
       "      <td>5.30</td>\n",
       "    </tr>\n",
       "  </tbody>\n",
       "</table>\n",
       "</div>"
      ],
      "text/plain": [
       "   no domain task level           model  token  score\n",
       "0   1     D7   T9    L1  midm-mini-inst    537   1.50\n",
       "1   2     D8   T6    L1  midm-mini-inst    651   3.05\n",
       "2   3     D5   T9    L1  midm-mini-inst    551   5.30"
      ]
     },
     "execution_count": 333,
     "metadata": {},
     "output_type": "execute_result"
    }
   ],
   "source": [
    "df_ans = pd.read_csv(\"dataset/2.answer_data/702-samples-answered-by-midm-base-inst-2.3.2.csv\")\n",
    "#df_ans.head(3)\n",
    "\n",
    "df_eval = pd.read_csv(\"dataset/3.eval_data/702-samples-eval_midm-base-inst-2.3.2.csv\")\n",
    "#df_eval.head(3)\n",
    "\n",
    "df_eval_result = pd.read_csv(\"dataset/4.eval_result_data/702-samples-eval_feedback_midm-base-inst-2.3.2.csv\")\n",
    "#df_eval_result.head(3)\n",
    "\n",
    "with open(\"dataset/5.matrix_data/702-samples-eval_result_all.json\", \"r\") as f:\n",
    "    df_matrix = json.load(f)\n",
    "#print(df_matrix)\n",
    "#print(json.dumps(df_matrix, indent=4))\n",
    "df_matrix = pd.DataFrame(df_matrix)\n",
    "df_matrix.head(3)\n",
    "\n",
    "#df_midm_mini = df_matrix[df_matrix['model'] == 'midm-mini-inst']\n",
    "#df_midm_mini.head(3)\n",
    "\n",
    "\n",
    "\n"
   ]
  },
  {
   "cell_type": "markdown",
   "id": "02feb138",
   "metadata": {},
   "source": [
    "### 디렉토리 파일 읽기(확인)"
   ]
  },
  {
   "cell_type": "code",
   "execution_count": 155,
   "id": "5d26b3c9",
   "metadata": {},
   "outputs": [
    {
     "name": "stdout",
     "output_type": "stream",
     "text": [
      "5\n",
      "0\n"
     ]
    },
    {
     "data": {
      "text/plain": [
       "[]"
      ]
     },
     "execution_count": 155,
     "metadata": {},
     "output_type": "execute_result"
    }
   ],
   "source": [
    "list_root_dir = Path('dataset/3.eval_data')\n",
    "dict_llm2df = {}\n",
    "i = 0\n",
    "y = 0 \n",
    "\n",
    "## 확인필요\n",
    "for dir in list_root_dir.iterdir():\n",
    "    i += 1  \n",
    "    #print(dir.name.split('eval_')[1])\n",
    "    for file in dir.glob('*.csv'):\n",
    "        y += 1\n",
    "        if file.is_file():\n",
    "            print(file.name)\n",
    "            dict_llm2df[dir.name.split('eval_')[1].split('.')[0]] = pd.read_csv(file)\n",
    "print(i)\n",
    "print(y)\n",
    "list(sorted(dict_llm2df.keys()))"
   ]
  },
  {
   "cell_type": "code",
   "execution_count": 279,
   "id": "2db3eca6",
   "metadata": {},
   "outputs": [
    {
     "name": "stdout",
     "output_type": "stream",
     "text": [
      "dataset/3.eval_data/702-samples-eval_midm-pro-inst-2.3.csv\n",
      "midm-pro-inst-2.3  :  1000\n",
      "--------------------------------\n",
      "dataset/3.eval_data/702-samples-eval_midm-mini-inst-2.3.1.csv\n",
      "midm-mini-inst-2.3.1  :  1000\n",
      "--------------------------------\n",
      "dataset/3.eval_data/702-samples-eval_midm-base-inst-2.3.2.csv\n",
      "midm-base-inst-2.3.2  :  1000\n",
      "--------------------------------\n",
      "dataset/3.eval_data/702-samples-eval_llama-3-1-74b.csv\n",
      "llama-3-1-74b  :  1000\n",
      "--------------------------------\n",
      "dataset/3.eval_data/702-samples-eval_gpt-4o.csv\n",
      "gpt-4o  :  1000\n",
      "--------------------------------\n"
     ]
    },
    {
     "data": {
      "text/html": [
       "<div>\n",
       "<style scoped>\n",
       "    .dataframe tbody tr th:only-of-type {\n",
       "        vertical-align: middle;\n",
       "    }\n",
       "\n",
       "    .dataframe tbody tr th {\n",
       "        vertical-align: top;\n",
       "    }\n",
       "\n",
       "    .dataframe thead th {\n",
       "        text-align: right;\n",
       "    }\n",
       "</style>\n",
       "<table border=\"1\" class=\"dataframe\">\n",
       "  <thead>\n",
       "    <tr style=\"text-align: right;\">\n",
       "      <th></th>\n",
       "      <th>no</th>\n",
       "      <th>domain</th>\n",
       "      <th>task</th>\n",
       "      <th>level</th>\n",
       "      <th>model</th>\n",
       "      <th>token_usage</th>\n",
       "      <th>prompt</th>\n",
       "      <th>response</th>\n",
       "    </tr>\n",
       "  </thead>\n",
       "  <tbody>\n",
       "    <tr>\n",
       "      <th>0</th>\n",
       "      <td>1</td>\n",
       "      <td>D7</td>\n",
       "      <td>T9</td>\n",
       "      <td>L1</td>\n",
       "      <td>midm-mini-inst</td>\n",
       "      <td>537</td>\n",
       "      <td>라인하르트 자프티히는 독일의 축구 감독이야.</td>\n",
       "      <td>네, 맞습니다. 라인하르트 자프티히는 독일의 축구 감독으로 활동한 인물입니다.</td>\n",
       "    </tr>\n",
       "    <tr>\n",
       "      <th>1</th>\n",
       "      <td>2</td>\n",
       "      <td>D8</td>\n",
       "      <td>T6</td>\n",
       "      <td>L1</td>\n",
       "      <td>midm-mini-inst</td>\n",
       "      <td>651</td>\n",
       "      <td>\"신세계는 어떤 영화인가요?\"</td>\n",
       "      <td>\"신세계\"는 2013년에 개봉한 한국 영화로, 범죄와 조직폭력을 소재로 한 작품입니...</td>\n",
       "    </tr>\n",
       "    <tr>\n",
       "      <th>2</th>\n",
       "      <td>3</td>\n",
       "      <td>D5</td>\n",
       "      <td>T9</td>\n",
       "      <td>L1</td>\n",
       "      <td>midm-mini-inst</td>\n",
       "      <td>551</td>\n",
       "      <td>다음 객관식 문제에 대한 올바른 옵션을 선택하세요.\\n폴란드의 수도는 어디인가요?\\...</td>\n",
       "      <td>폴란드의 수도는 C. 바르샤바입니다.</td>\n",
       "    </tr>\n",
       "  </tbody>\n",
       "</table>\n",
       "</div>"
      ],
      "text/plain": [
       "   no domain task level           model  token_usage  \\\n",
       "0   1     D7   T9    L1  midm-mini-inst          537   \n",
       "1   2     D8   T6    L1  midm-mini-inst          651   \n",
       "2   3     D5   T9    L1  midm-mini-inst          551   \n",
       "\n",
       "                                              prompt  \\\n",
       "0                           라인하르트 자프티히는 독일의 축구 감독이야.   \n",
       "1                                   \"신세계는 어떤 영화인가요?\"   \n",
       "2  다음 객관식 문제에 대한 올바른 옵션을 선택하세요.\\n폴란드의 수도는 어디인가요?\\...   \n",
       "\n",
       "                                            response  \n",
       "0        네, 맞습니다. 라인하르트 자프티히는 독일의 축구 감독으로 활동한 인물입니다.  \n",
       "1  \"신세계\"는 2013년에 개봉한 한국 영화로, 범죄와 조직폭력을 소재로 한 작품입니...  \n",
       "2                               폴란드의 수도는 C. 바르샤바입니다.  "
      ]
     },
     "execution_count": 279,
     "metadata": {},
     "output_type": "execute_result"
    }
   ],
   "source": [
    "list_root_dir = Path('dataset/3.eval_data')\n",
    "dict_llm2df = {}\n",
    "\n",
    "for file in list_root_dir.glob('702*.csv'):\n",
    "    print(file)\n",
    "    model = file.stem.split('eval_')[1].split('.csv')[0]\n",
    "    dict_llm2df[model] = pd.read_csv(file)\n",
    "    print(model, \" : \", len(dict_llm2df[model]))\n",
    "    print(\"--------------------------------\")\n",
    "    \n",
    "list(sorted(dict_llm2df.keys()))\n",
    "\n",
    "\n",
    "dict_llm2df['midm-mini-inst-2.3.1'].head(3)\n"
   ]
  },
  {
   "cell_type": "markdown",
   "id": "0a597671",
   "metadata": {},
   "source": [
    "### 데이터 클렌징"
   ]
  },
  {
   "cell_type": "code",
   "execution_count": 384,
   "id": "663c1d7e",
   "metadata": {},
   "outputs": [
    {
     "name": "stdout",
     "output_type": "stream",
     "text": [
      "[1.5   3.05  5.3   1.    1.3   2.2   3.55  0.    3.    2.6   0.5   4.6\n",
      " 4.3   4.75  5.2   4.5   4.8   0.9   2.5   4.9   3.9   4.175 4.05  3.2\n",
      " 3.1   1.95  1.7   0.55  4.35  4.025 4.375 2.    4.65  2.9   4.7   3.4\n",
      " 2.999 0.8   2.7   1.35  4.06  3.8   3.6   1.2   1.1   4.61  2.8   4.4\n",
      " 4.45  4.575 4.315 3.65  4.82  5.05  4.55  3.95  4.2   4.    4.1   2.1\n",
      " 2.75  4.027 3.5   4.49  1.9   4.135 4.655 3.03  4.85  5.    3.75  4.93\n",
      " 3.35  3.3   4.525 4.63  2.55  3.04  4.59  1.6   3.7   3.735 2.05  4.48\n",
      " 2.4   3.45  4.94  4.71  4.305 0.75  3.82  4.27  4.325 4.365 4.355 2.3\n",
      " 1.4   4.285 4.26  5.1   3.69  4.44  4.225 4.595 3.995 4.25  5.04  1.8\n",
      " 3.15  4.625 1.55  4.215 4.73  4.775 0.1   1.65  4.36  4.275 4.404 3.46\n",
      " 0.7   1.15  4.58  4.825 3.25  3.728 4.385 2.333 4.617 4.633 4.635 5.15\n",
      " 3.67  2.15  3.945 2.95  2.425 5.225 3.79  4.29  4.69  4.845 5.5   4.15\n",
      " 4.34  0.4   4.39  4.265 4.415 3.767 4.16  4.475 4.204 4.41  0.2   4.665\n",
      " 4.925 4.74  4.37  4.045 3.275 4.675 4.075 4.335 4.388 4.33  4.68  4.875\n",
      " 4.425 4.19  4.11  3.64  4.333 4.57  5.07  4.18  3.54  4.03  4.725 4.47\n",
      " 4.04  4.07  4.515 4.763 4.42  4.287 4.51  3.88  3.375 4.863 3.58  0.6\n",
      " 4.56  4.483 3.182 4.435 3.685 4.54  4.657 5.35  4.405 4.387 3.89  4.048\n",
      " 4.28  3.85  4.14  4.708 4.269 4.535 4.345 4.23  3.225 3.575 5.85  4.155\n",
      " 3.755 4.145 4.235 4.84  1.05  4.455 4.735 1.85  4.87  4.395 4.745 4.31\n",
      " 3.675 3.765 4.565 4.38  4.087 0.3   3.48  4.715 4.32  4.466 5.6   4.79\n",
      " 0.85  4.605 4.125 4.95  0.65  2.65  4.12  4.53  5.045 2.67  4.885 4.121\n",
      " 4.132 4.085]\n"
     ]
    },
    {
     "data": {
      "text/plain": [
       "score\n",
       "5.300    1527\n",
       "4.700     206\n",
       "4.750     159\n",
       "4.300     112\n",
       "4.800     104\n",
       "         ... \n",
       "4.845       1\n",
       "3.790       1\n",
       "5.225       1\n",
       "2.425       1\n",
       "4.085       1\n",
       "Name: count, Length: 254, dtype: int64"
      ]
     },
     "execution_count": 384,
     "metadata": {},
     "output_type": "execute_result"
    }
   ],
   "source": [
    "df_matrix.head(3)\n",
    "\n",
    "\n",
    "df_matrix['domain'].value_counts()\n",
    "\n",
    "df_matrix['domain'].count()\n",
    "\n",
    "df_matrix['domain'].unique()\n",
    "\n",
    "\n",
    "for domain in df_matrix['domain']:\n",
    "     #print(domain)\n",
    "     #만약 도메인에 \"\\n\\n\"이 있으면 제거\n",
    "     if \"\\n\\n\" in domain:\n",
    "         #print(domain)\n",
    "         domain = domain.split('\\n\\n')[0]\n",
    "         #print(domain)\n",
    "         #print(\"--------------------------------\")\n",
    "         \n",
    "\n",
    "print(df_matrix['score'].unique())\n",
    "df_matrix['score'].value_counts()\n",
    "\n",
    "\n",
    "\n"
   ]
  },
  {
   "cell_type": "markdown",
   "id": "5e66f71b",
   "metadata": {},
   "source": [
    "#### domain, task, level 데이터 분포 확인"
   ]
  },
  {
   "cell_type": "markdown",
   "id": "8f387a76",
   "metadata": {},
   "source": [
    "##### domain, task, level 데이터 클렌징"
   ]
  },
  {
   "cell_type": "code",
   "execution_count": null,
   "id": "99493741",
   "metadata": {},
   "outputs": [
    {
     "data": {
      "text/plain": [
       "domain\n",
       "D8     906\n",
       "D2     597\n",
       "D5     562\n",
       "D3     558\n",
       "D4     250\n",
       "D7     236\n",
       "D9     236\n",
       "D6     236\n",
       "D1     217\n",
       "D10     30\n",
       "Name: count, dtype: int64"
      ]
     },
     "execution_count": 380,
     "metadata": {},
     "output_type": "execute_result"
    }
   ],
   "source": [
    "# domain, task, level 데이터 분포 확인\n",
    "\n",
    "#df_matrix['domain'].value_counts()\n",
    "#df_matrix['task'].value_counts()\n",
    "#df_matrix['level'].value_counts()\n",
    "\n",
    "#df_matrix['domain'].unique()\n",
    "#df_matrix['task'].unique()\n",
    "#df_matrix['level'].unique()\n",
    "\n",
    "#데이터 클렌징\n",
    "#df_matrix['domain'] = df_matrix['domain'].str.split('\\n\\n').str[0]\n",
    "\n",
    "#domain D1, D2, D3, D4, D5, D6, D7, D8, D9, D10 외에 데이터 제거\n",
    "#df_matrix = df_matrix[df_matrix['domain'].isin(['D1', 'D2', 'D3', 'D4', 'D5', 'D6', 'D7', 'D8', 'D9', 'D10'])]\n",
    "#df_matrix['domain'].unique()\n",
    "\n",
    "#domain D1, D2, D3, D4, D5, D6, D7, D8, D9, D10 이 포함된 데이터만 남기기\n",
    "#df_matrix = df_matrix[df_matrix['domain'].str.contains('D1|D2|D3|D4|D5|D6|D7|D8|D9|D10')]\n",
    "\n",
    "# df_matrix['task'].value_counts()\n",
    "# print(len(df_matrix['task']))\n",
    "# df_matrix['task'] = df_matrix['task'].str.split('\\n\\n').str[0]\n",
    "# df_matrix = df_matrix[df_matrix['task'].str.contains('T1|T2|T3|T4|T5|T6|T7|T8|T9|T10|T11|T12')]\n",
    "# print(len(df_matrix['task']))\n",
    "# df_matrix['task'].value_counts()\n",
    "\n",
    "# df_matrix['level'].value_counts()\n",
    "# print(len(df_matrix['level']))\n",
    "# df_matrix['level'] = df_matrix['level'].str.split('\\n\\n').str[0]\n",
    "# df_matrix = df_matrix[df_matrix['level'].str.contains('L1|L2|L3')]\n",
    "# print(len(df_matrix['level']))\n",
    "# df_matrix['level'].value_counts()\n",
    "\n",
    "df_matrix['domain'].value_counts()\n",
    "df_matrix['task'].value_counts()\n",
    "df_matrix['level'].value_counts()\n",
    "\n",
    "\n",
    "\n",
    " \n",
    "\n",
    "\n",
    "\n",
    "\n",
    "\n"
   ]
  },
  {
   "cell_type": "markdown",
   "id": "cf7f2d6d",
   "metadata": {},
   "source": [
    "#### score 분포 확인"
   ]
  },
  {
   "cell_type": "code",
   "execution_count": 359,
   "id": "dd3867bc",
   "metadata": {},
   "outputs": [
    {
     "data": {
      "text/plain": [
       "[Text(0, 0, '0-0.5'),\n",
       " Text(1, 0, '1-1.5'),\n",
       " Text(2, 0, '2-2.5'),\n",
       " Text(3, 0, '3-3.5'),\n",
       " Text(4, 0, '4-4.5'),\n",
       " Text(5, 0, '5-5.5')]"
      ]
     },
     "execution_count": 359,
     "metadata": {},
     "output_type": "execute_result"
    },
    {
     "data": {
      "image/png": "[encoded data removed]",
      "text/plain": [
       "<Figure size 500x300 with 1 Axes>"
      ]
     },
     "metadata": {},
     "output_type": "display_data"
    }
   ],
   "source": [
    "# 데이터 분포 확인\n",
    "# df_matrix['score'].head(3)\n",
    "# df_matrix['score'].value_counts()\n",
    "# df_matrix['score'].unique()\n",
    "\n",
    "# 바차트 생성\n",
    "# 점수 범위는 0~6점까지 0.5점 단위로 계산\n",
    "# x축 라벨은 점수 범위로 표시\n",
    "# y축 라벨은 점수 범위에 해당하는 데이터의 개수로 표시\n",
    "# 차트의 제목은 'Distribution of Score'로 표시\n",
    "# 차트의 x축 라벨은 'Score'로 표시\n",
    "# 차트의 y축 라벨은 'Count'로 표시\n",
    "\n",
    "df_matrix['score_range'] = pd.cut(df_matrix['score'], bins=range(0, 7, 1), labels=[f'{i}-{i+0.5}' for i in range(0, 6, 1)])\n",
    "df_matrix['score_range'].unique()\n",
    "\n",
    "# 점수 범위별 데이터 개수 계산\n",
    "score_counts = df_matrix['score_range'].value_counts().sort_index()\n",
    "\n",
    "# 바차트 생성\n",
    "bar_chart = sns.barplot(x=score_counts.index, y=score_counts.values)\n",
    "bar_chart.figure.set_size_inches(5, 3)\n",
    "bar_chart.set_title('Distribution of Score')\n",
    "bar_chart.set_xlabel('Score')\n",
    "bar_chart.set_ylabel('Count')\n",
    "bar_chart.set_xticks(bar_chart.get_xticks())\n",
    "bar_chart.set_xticklabels(bar_chart.get_xticklabels(), rotation=90)\n"
   ]
  },
  {
   "cell_type": "markdown",
   "id": "32240383",
   "metadata": {},
   "source": [
    "### 캐쉬 활용"
   ]
  },
  {
   "cell_type": "code",
   "execution_count": null,
   "id": "78ed1f1e",
   "metadata": {},
   "outputs": [],
   "source": [
    "zzz"
   ]
  },
  {
   "cell_type": "markdown",
   "id": "62f2224d",
   "metadata": {},
   "source": [
    "## 2. 데이터 탐색"
   ]
  },
  {
   "cell_type": "markdown",
   "id": "b68b87ff",
   "metadata": {},
   "source": [
    "### EDA 데이터 탐색"
   ]
  },
  {
   "cell_type": "code",
   "execution_count": 190,
   "id": "c55b70bb",
   "metadata": {},
   "outputs": [
    {
     "data": {
      "text/html": [
       "<div>\n",
       "<style scoped>\n",
       "    .dataframe tbody tr th:only-of-type {\n",
       "        vertical-align: middle;\n",
       "    }\n",
       "\n",
       "    .dataframe tbody tr th {\n",
       "        vertical-align: top;\n",
       "    }\n",
       "\n",
       "    .dataframe thead th {\n",
       "        text-align: right;\n",
       "    }\n",
       "</style>\n",
       "<table border=\"1\" class=\"dataframe\">\n",
       "  <thead>\n",
       "    <tr style=\"text-align: right;\">\n",
       "      <th></th>\n",
       "      <th>no</th>\n",
       "      <th>domain</th>\n",
       "      <th>task</th>\n",
       "      <th>level</th>\n",
       "      <th>model</th>\n",
       "      <th>token_usage</th>\n",
       "      <th>prompt</th>\n",
       "      <th>response</th>\n",
       "      <th>midm-mini-inst_result</th>\n",
       "    </tr>\n",
       "  </thead>\n",
       "  <tbody>\n",
       "    <tr>\n",
       "      <th>0</th>\n",
       "      <td>1</td>\n",
       "      <td>D7</td>\n",
       "      <td>T9</td>\n",
       "      <td>L1</td>\n",
       "      <td>midm-mini-inst</td>\n",
       "      <td>537</td>\n",
       "      <td>라인하르트 자프티히는 독일의 축구 감독이야.</td>\n",
       "      <td>네, 맞습니다. 라인하르트 자프티히는 독일의 축구 감독으로 활동한 인물입니다.</td>\n",
       "      <td>```json\\n{\\n  \"Accuracy\": 0.000,\\n  \"Consisten...</td>\n",
       "    </tr>\n",
       "    <tr>\n",
       "      <th>1</th>\n",
       "      <td>2</td>\n",
       "      <td>D8</td>\n",
       "      <td>T6</td>\n",
       "      <td>L1</td>\n",
       "      <td>midm-mini-inst</td>\n",
       "      <td>651</td>\n",
       "      <td>\"신세계는 어떤 영화인가요?\"</td>\n",
       "      <td>\"신세계\"는 2013년에 개봉한 한국 영화로, 범죄와 조직폭력을 소재로 한 작품입니...</td>\n",
       "      <td>```json\\n{\\n  \"Accuracy\": 0.500,\\n  \"Consisten...</td>\n",
       "    </tr>\n",
       "    <tr>\n",
       "      <th>2</th>\n",
       "      <td>3</td>\n",
       "      <td>D5</td>\n",
       "      <td>T9</td>\n",
       "      <td>L1</td>\n",
       "      <td>midm-mini-inst</td>\n",
       "      <td>551</td>\n",
       "      <td>다음 객관식 문제에 대한 올바른 옵션을 선택하세요.\\n폴란드의 수도는 어디인가요?\\...</td>\n",
       "      <td>폴란드의 수도는 C. 바르샤바입니다.</td>\n",
       "      <td>```json\\n{\\n  \"Accuracy\": 1.5,\\n  \"Consistency...</td>\n",
       "    </tr>\n",
       "  </tbody>\n",
       "</table>\n",
       "</div>"
      ],
      "text/plain": [
       "   no domain task level           model  token_usage  \\\n",
       "0   1     D7   T9    L1  midm-mini-inst          537   \n",
       "1   2     D8   T6    L1  midm-mini-inst          651   \n",
       "2   3     D5   T9    L1  midm-mini-inst          551   \n",
       "\n",
       "                                              prompt  \\\n",
       "0                           라인하르트 자프티히는 독일의 축구 감독이야.   \n",
       "1                                   \"신세계는 어떤 영화인가요?\"   \n",
       "2  다음 객관식 문제에 대한 올바른 옵션을 선택하세요.\\n폴란드의 수도는 어디인가요?\\...   \n",
       "\n",
       "                                            response  \\\n",
       "0        네, 맞습니다. 라인하르트 자프티히는 독일의 축구 감독으로 활동한 인물입니다.   \n",
       "1  \"신세계\"는 2013년에 개봉한 한국 영화로, 범죄와 조직폭력을 소재로 한 작품입니...   \n",
       "2                               폴란드의 수도는 C. 바르샤바입니다.   \n",
       "\n",
       "                               midm-mini-inst_result  \n",
       "0  ```json\\n{\\n  \"Accuracy\": 0.000,\\n  \"Consisten...  \n",
       "1  ```json\\n{\\n  \"Accuracy\": 0.500,\\n  \"Consisten...  \n",
       "2  ```json\\n{\\n  \"Accuracy\": 1.5,\\n  \"Consistency...  "
      ]
     },
     "execution_count": 190,
     "metadata": {},
     "output_type": "execute_result"
    }
   ],
   "source": [
    "result_file = 'dataset/4.eval_result_data/702-samples-eval_feedback_midm-mini-inst-2.3.1.csv'\n",
    "df = pd.read_csv(result_file)\n",
    "\n",
    "# df.info()\n",
    "# df.describe()\n",
    "# df['domain'].value_counts()\n",
    "# df['prompt'].to_dict()\n",
    "df.head(3)\n",
    "#dict_llm2df['midm-mini-inst-2.3.1'].head(3)"
   ]
  },
  {
   "cell_type": "code",
   "execution_count": null,
   "id": "ced00be5",
   "metadata": {},
   "outputs": [],
   "source": []
  },
  {
   "cell_type": "code",
   "execution_count": 191,
   "id": "231b7022",
   "metadata": {},
   "outputs": [
    {
     "data": {
      "text/html": [
       "<div>\n",
       "<style scoped>\n",
       "    .dataframe tbody tr th:only-of-type {\n",
       "        vertical-align: middle;\n",
       "    }\n",
       "\n",
       "    .dataframe tbody tr th {\n",
       "        vertical-align: top;\n",
       "    }\n",
       "\n",
       "    .dataframe thead th {\n",
       "        text-align: right;\n",
       "    }\n",
       "</style>\n",
       "<table border=\"1\" class=\"dataframe\">\n",
       "  <thead>\n",
       "    <tr style=\"text-align: right;\">\n",
       "      <th></th>\n",
       "      <th>no</th>\n",
       "      <th>domain</th>\n",
       "      <th>task</th>\n",
       "      <th>level</th>\n",
       "      <th>model</th>\n",
       "      <th>token_usage</th>\n",
       "      <th>prompt</th>\n",
       "      <th>response</th>\n",
       "      <th>midm-mini-inst_result</th>\n",
       "    </tr>\n",
       "  </thead>\n",
       "  <tbody>\n",
       "    <tr>\n",
       "      <th>0</th>\n",
       "      <td>1</td>\n",
       "      <td>D7</td>\n",
       "      <td>T9</td>\n",
       "      <td>L1</td>\n",
       "      <td>midm-mini-inst</td>\n",
       "      <td>537</td>\n",
       "      <td>라인하르트 자프티히는 독일의 축구 감독이야.</td>\n",
       "      <td>네, 맞습니다. 라인하르트 자프티히는 독일의 축구 감독으로 활동한 인물입니다.</td>\n",
       "      <td>```json\\n{\\n  \"Accuracy\": 0.000,\\n  \"Consisten...</td>\n",
       "    </tr>\n",
       "    <tr>\n",
       "      <th>1</th>\n",
       "      <td>2</td>\n",
       "      <td>D8</td>\n",
       "      <td>T6</td>\n",
       "      <td>L1</td>\n",
       "      <td>midm-mini-inst</td>\n",
       "      <td>651</td>\n",
       "      <td>\"신세계는 어떤 영화인가요?\"</td>\n",
       "      <td>\"신세계\"는 2013년에 개봉한 한국 영화로, 범죄와 조직폭력을 소재로 한 작품입니...</td>\n",
       "      <td>```json\\n{\\n  \"Accuracy\": 0.500,\\n  \"Consisten...</td>\n",
       "    </tr>\n",
       "    <tr>\n",
       "      <th>2</th>\n",
       "      <td>3</td>\n",
       "      <td>D5</td>\n",
       "      <td>T9</td>\n",
       "      <td>L1</td>\n",
       "      <td>midm-mini-inst</td>\n",
       "      <td>551</td>\n",
       "      <td>다음 객관식 문제에 대한 올바른 옵션을 선택하세요.\\n폴란드의 수도는 어디인가요?\\...</td>\n",
       "      <td>폴란드의 수도는 C. 바르샤바입니다.</td>\n",
       "      <td>```json\\n{\\n  \"Accuracy\": 1.5,\\n  \"Consistency...</td>\n",
       "    </tr>\n",
       "    <tr>\n",
       "      <th>3</th>\n",
       "      <td>4</td>\n",
       "      <td>D8</td>\n",
       "      <td>T9</td>\n",
       "      <td>L1</td>\n",
       "      <td>midm-mini-inst</td>\n",
       "      <td>548</td>\n",
       "      <td>비앙카 모블리의 출신 국적은 어디인가?</td>\n",
       "      <td>비앙카 모블리는 미국 국적을 가진 인물입니다. 그녀는 미국의 배우, 가수, 댄서, ...</td>\n",
       "      <td>```json\\n{\\n  \"Accuracy\": 0.0,\\n  \"Consistency...</td>\n",
       "    </tr>\n",
       "    <tr>\n",
       "      <th>4</th>\n",
       "      <td>5</td>\n",
       "      <td>D7</td>\n",
       "      <td>T9</td>\n",
       "      <td>L3</td>\n",
       "      <td>midm-mini-inst</td>\n",
       "      <td>569</td>\n",
       "      <td>한명련은 무엇을 했나?</td>\n",
       "      <td>한명련은 대한민국의 정치인으로, 더불어민주당 소속의 국회의원입니다. 그는 2018년...</td>\n",
       "      <td>```json\\n{\\n  \"Accuracy\": 0.200,\\n  \"Consisten...</td>\n",
       "    </tr>\n",
       "  </tbody>\n",
       "</table>\n",
       "</div>"
      ],
      "text/plain": [
       "   no domain task level           model  token_usage  \\\n",
       "0   1     D7   T9    L1  midm-mini-inst          537   \n",
       "1   2     D8   T6    L1  midm-mini-inst          651   \n",
       "2   3     D5   T9    L1  midm-mini-inst          551   \n",
       "3   4     D8   T9    L1  midm-mini-inst          548   \n",
       "4   5     D7   T9    L3  midm-mini-inst          569   \n",
       "\n",
       "                                              prompt  \\\n",
       "0                           라인하르트 자프티히는 독일의 축구 감독이야.   \n",
       "1                                   \"신세계는 어떤 영화인가요?\"   \n",
       "2  다음 객관식 문제에 대한 올바른 옵션을 선택하세요.\\n폴란드의 수도는 어디인가요?\\...   \n",
       "3                              비앙카 모블리의 출신 국적은 어디인가?   \n",
       "4                                       한명련은 무엇을 했나?   \n",
       "\n",
       "                                            response  \\\n",
       "0        네, 맞습니다. 라인하르트 자프티히는 독일의 축구 감독으로 활동한 인물입니다.   \n",
       "1  \"신세계\"는 2013년에 개봉한 한국 영화로, 범죄와 조직폭력을 소재로 한 작품입니...   \n",
       "2                               폴란드의 수도는 C. 바르샤바입니다.   \n",
       "3  비앙카 모블리는 미국 국적을 가진 인물입니다. 그녀는 미국의 배우, 가수, 댄서, ...   \n",
       "4  한명련은 대한민국의 정치인으로, 더불어민주당 소속의 국회의원입니다. 그는 2018년...   \n",
       "\n",
       "                               midm-mini-inst_result  \n",
       "0  ```json\\n{\\n  \"Accuracy\": 0.000,\\n  \"Consisten...  \n",
       "1  ```json\\n{\\n  \"Accuracy\": 0.500,\\n  \"Consisten...  \n",
       "2  ```json\\n{\\n  \"Accuracy\": 1.5,\\n  \"Consistency...  \n",
       "3  ```json\\n{\\n  \"Accuracy\": 0.0,\\n  \"Consistency...  \n",
       "4  ```json\\n{\\n  \"Accuracy\": 0.200,\\n  \"Consisten...  "
      ]
     },
     "execution_count": 191,
     "metadata": {},
     "output_type": "execute_result"
    }
   ],
   "source": [
    "\n",
    "df_midm_mini = dict_llm2df_input_data['midm-mini-inst-2.3.1']\n",
    "df_midm_mini.head(5)\n",
    "\n",
    "# df_midm_mini.info()\n",
    "# df_midm_mini.describe()\n",
    "# df_midm_mini['domain'].value_counts()\n",
    "# df_midm_mini['prompt'].to_dict()\n",
    "# df_midm_mini.head(3)"
   ]
  },
  {
   "cell_type": "code",
   "execution_count": 295,
   "id": "e59293f8",
   "metadata": {},
   "outputs": [
    {
     "data": {
      "text/plain": [
       "domain\n",
       "D8                                                       907\n",
       "D2                                                       564\n",
       "D5                                                       562\n",
       "D3                                                       551\n",
       "D4                                                       249\n",
       "                                                        ... \n",
       "D2\\n\\n이 질문은 일본의 경제 정책, 통화 가치 조정, 국제 기구와의 협력                1\n",
       "D2\\n\\n주식과 채권을 사용한 복제 포트폴리오 구성과 관련된 질문은 금융공학, 포트폴리오 이론      1\n",
       "D2\\n\\n이 질문은 금융 파생상품인 ATM 스왑션(ATM Swaption)의 차익             1\n",
       "D3\\n\\n이 질문은 확률론과 금융수학에서 사용되는 위험 척도(risk measure)에          1\n",
       "D4,D9                                                      1\n",
       "Name: count, Length: 91, dtype: int64"
      ]
     },
     "execution_count": 295,
     "metadata": {},
     "output_type": "execute_result"
    }
   ],
   "source": [
    "df_midm_mini.head(3)\n",
    "\n",
    "df_midm_mini['level'].value_counts()\n",
    "df_matrix['domain'].value_counts()\n"
   ]
  },
  {
   "cell_type": "code",
   "execution_count": 193,
   "id": "0be010b4",
   "metadata": {},
   "outputs": [
    {
     "data": {
      "text/plain": [
       "(['T1', 'T2', 'T3', 'T4', 'T5', 'T6', 'T7', 'T8', 'T9', 'T10', 'T11', 'T12'],\n",
       " ['D1', 'D2', 'D3', 'D4', 'D5', 'D6', 'D7', 'D8', 'D9', 'D10'],\n",
       " ['L1', 'L2', 'L3'])"
      ]
     },
     "execution_count": 193,
     "metadata": {},
     "output_type": "execute_result"
    }
   ],
   "source": [
    "list_task_label = [f\"T{i}\" for i in range(1, 13)]\n",
    "list_domain_label = [f\"D{i}\" for i in range(1, 11)]\n",
    "list_level_label = [f\"L{i}\" for i in range(1, 4)]\n",
    "list_task_label, list_domain_label, list_level_label"
   ]
  },
  {
   "cell_type": "code",
   "execution_count": 194,
   "id": "61970eb3",
   "metadata": {},
   "outputs": [
    {
     "data": {
      "text/html": [
       "<div>\n",
       "<style scoped>\n",
       "    .dataframe tbody tr th:only-of-type {\n",
       "        vertical-align: middle;\n",
       "    }\n",
       "\n",
       "    .dataframe tbody tr th {\n",
       "        vertical-align: top;\n",
       "    }\n",
       "\n",
       "    .dataframe thead th {\n",
       "        text-align: right;\n",
       "    }\n",
       "</style>\n",
       "<table border=\"1\" class=\"dataframe\">\n",
       "  <thead>\n",
       "    <tr style=\"text-align: right;\">\n",
       "      <th></th>\n",
       "      <th>T</th>\n",
       "      <th>D</th>\n",
       "      <th>L</th>\n",
       "      <th>count</th>\n",
       "    </tr>\n",
       "  </thead>\n",
       "  <tbody>\n",
       "    <tr>\n",
       "      <th>0</th>\n",
       "      <td>T1</td>\n",
       "      <td>D1</td>\n",
       "      <td>L1</td>\n",
       "      <td>0.0</td>\n",
       "    </tr>\n",
       "    <tr>\n",
       "      <th>1</th>\n",
       "      <td>T1</td>\n",
       "      <td>D1</td>\n",
       "      <td>L2</td>\n",
       "      <td>0.0</td>\n",
       "    </tr>\n",
       "    <tr>\n",
       "      <th>2</th>\n",
       "      <td>T1</td>\n",
       "      <td>D1</td>\n",
       "      <td>L3</td>\n",
       "      <td>0.0</td>\n",
       "    </tr>\n",
       "    <tr>\n",
       "      <th>3</th>\n",
       "      <td>T1</td>\n",
       "      <td>D2</td>\n",
       "      <td>L1</td>\n",
       "      <td>0.0</td>\n",
       "    </tr>\n",
       "    <tr>\n",
       "      <th>4</th>\n",
       "      <td>T1</td>\n",
       "      <td>D2</td>\n",
       "      <td>L2</td>\n",
       "      <td>0.0</td>\n",
       "    </tr>\n",
       "    <tr>\n",
       "      <th>...</th>\n",
       "      <td>...</td>\n",
       "      <td>...</td>\n",
       "      <td>...</td>\n",
       "      <td>...</td>\n",
       "    </tr>\n",
       "    <tr>\n",
       "      <th>355</th>\n",
       "      <td>T12</td>\n",
       "      <td>D9</td>\n",
       "      <td>L2</td>\n",
       "      <td>0.0</td>\n",
       "    </tr>\n",
       "    <tr>\n",
       "      <th>356</th>\n",
       "      <td>T12</td>\n",
       "      <td>D9</td>\n",
       "      <td>L3</td>\n",
       "      <td>0.0</td>\n",
       "    </tr>\n",
       "    <tr>\n",
       "      <th>357</th>\n",
       "      <td>T12</td>\n",
       "      <td>D10</td>\n",
       "      <td>L1</td>\n",
       "      <td>0.0</td>\n",
       "    </tr>\n",
       "    <tr>\n",
       "      <th>358</th>\n",
       "      <td>T12</td>\n",
       "      <td>D10</td>\n",
       "      <td>L2</td>\n",
       "      <td>0.0</td>\n",
       "    </tr>\n",
       "    <tr>\n",
       "      <th>359</th>\n",
       "      <td>T12</td>\n",
       "      <td>D10</td>\n",
       "      <td>L3</td>\n",
       "      <td>0.0</td>\n",
       "    </tr>\n",
       "  </tbody>\n",
       "</table>\n",
       "<p>360 rows × 4 columns</p>\n",
       "</div>"
      ],
      "text/plain": [
       "       T    D   L  count\n",
       "0     T1   D1  L1    0.0\n",
       "1     T1   D1  L2    0.0\n",
       "2     T1   D1  L3    0.0\n",
       "3     T1   D2  L1    0.0\n",
       "4     T1   D2  L2    0.0\n",
       "..   ...  ...  ..    ...\n",
       "355  T12   D9  L2    0.0\n",
       "356  T12   D9  L3    0.0\n",
       "357  T12  D10  L1    0.0\n",
       "358  T12  D10  L2    0.0\n",
       "359  T12  D10  L3    0.0\n",
       "\n",
       "[360 rows x 4 columns]"
      ]
     },
     "execution_count": 194,
     "metadata": {},
     "output_type": "execute_result"
    }
   ],
   "source": [
    "list_labels = []\n",
    "for t in list_task_label:\n",
    "    for d in list_domain_label:\n",
    "        for l in list_level_label:\n",
    "            list_labels.append({\n",
    "                \"T\": t,\n",
    "                \"D\": d,\n",
    "                \"L\": l,\n",
    "            })\n",
    "df_tld = pd.DataFrame(list_labels)\n",
    "df_tld['count'] = 0.0\n",
    "df_tld"
   ]
  },
  {
   "cell_type": "code",
   "execution_count": 285,
   "id": "f97f8dee",
   "metadata": {},
   "outputs": [
    {
     "data": {
      "text/html": [
       "<div>\n",
       "<style scoped>\n",
       "    .dataframe tbody tr th:only-of-type {\n",
       "        vertical-align: middle;\n",
       "    }\n",
       "\n",
       "    .dataframe tbody tr th {\n",
       "        vertical-align: top;\n",
       "    }\n",
       "\n",
       "    .dataframe thead th {\n",
       "        text-align: right;\n",
       "    }\n",
       "</style>\n",
       "<table border=\"1\" class=\"dataframe\">\n",
       "  <thead>\n",
       "    <tr style=\"text-align: right;\">\n",
       "      <th></th>\n",
       "      <th>no</th>\n",
       "      <th>domain</th>\n",
       "      <th>task</th>\n",
       "      <th>level</th>\n",
       "      <th>model</th>\n",
       "      <th>token</th>\n",
       "      <th>score</th>\n",
       "    </tr>\n",
       "  </thead>\n",
       "  <tbody>\n",
       "    <tr>\n",
       "      <th>0</th>\n",
       "      <td>1</td>\n",
       "      <td>D7</td>\n",
       "      <td>T9</td>\n",
       "      <td>L1</td>\n",
       "      <td>midm-mini-inst</td>\n",
       "      <td>537</td>\n",
       "      <td>1.50</td>\n",
       "    </tr>\n",
       "    <tr>\n",
       "      <th>1</th>\n",
       "      <td>2</td>\n",
       "      <td>D8</td>\n",
       "      <td>T6</td>\n",
       "      <td>L1</td>\n",
       "      <td>midm-mini-inst</td>\n",
       "      <td>651</td>\n",
       "      <td>3.05</td>\n",
       "    </tr>\n",
       "    <tr>\n",
       "      <th>2</th>\n",
       "      <td>3</td>\n",
       "      <td>D5</td>\n",
       "      <td>T9</td>\n",
       "      <td>L1</td>\n",
       "      <td>midm-mini-inst</td>\n",
       "      <td>551</td>\n",
       "      <td>5.30</td>\n",
       "    </tr>\n",
       "  </tbody>\n",
       "</table>\n",
       "</div>"
      ],
      "text/plain": [
       "   no domain task level           model  token  score\n",
       "0   1     D7   T9    L1  midm-mini-inst    537   1.50\n",
       "1   2     D8   T6    L1  midm-mini-inst    651   3.05\n",
       "2   3     D5   T9    L1  midm-mini-inst    551   5.30"
      ]
     },
     "execution_count": 285,
     "metadata": {},
     "output_type": "execute_result"
    }
   ],
   "source": [
    "df_midm_mini.head(3)\n"
   ]
  },
  {
   "cell_type": "code",
   "execution_count": 196,
   "id": "cef3a5f1",
   "metadata": {},
   "outputs": [
    {
     "name": "stderr",
     "output_type": "stream",
     "text": [
      "134it [00:00, 445.32it/s]"
     ]
    },
    {
     "name": "stdout",
     "output_type": "stream",
     "text": [
      "T8 D2,D5 L3\n",
      "1 2 1\n",
      "0.5\n",
      "--------------------------------\n",
      "T8 D2,D5 L3\n",
      "1 2 1\n",
      "0.5\n",
      "--------------------------------\n",
      "T8 D2,D5 L3\n",
      "1 2 1\n",
      "0.5\n",
      "--------------------------------\n",
      "T8 D2,D5 L3\n",
      "1 2 1\n",
      "0.5\n",
      "--------------------------------\n",
      "T3 D3,D5 L3\n",
      "1 2 1\n",
      "0.5\n",
      "--------------------------------\n",
      "T3,T8 D5 L3\n",
      "2 1 1\n",
      "0.5\n",
      "--------------------------------\n"
     ]
    },
    {
     "name": "stderr",
     "output_type": "stream",
     "text": [
      "270it [00:00, 445.06it/s]"
     ]
    },
    {
     "name": "stdout",
     "output_type": "stream",
     "text": [
      "T8 D3,D5 L3\n",
      "1 2 1\n",
      "0.5\n",
      "--------------------------------\n",
      "T8 D3,D5 L3\n",
      "1 2 1\n",
      "0.5\n",
      "--------------------------------\n",
      "T3 D3,D2 L3\n",
      "1 2 1\n",
      "0.5\n",
      "--------------------------------\n",
      "T3,T8 D2,D5 L3\n",
      "2 2 1\n",
      "0.25\n",
      "--------------------------------\n"
     ]
    },
    {
     "name": "stderr",
     "output_type": "stream",
     "text": [
      "458it [00:01, 462.39it/s]"
     ]
    },
    {
     "name": "stdout",
     "output_type": "stream",
     "text": [
      "T8 D2,D5 L3\n",
      "1 2 1\n",
      "0.5\n",
      "--------------------------------\n",
      "T8 D2,D5 L3\n",
      "1 2 1\n",
      "0.5\n",
      "--------------------------------\n",
      "T8 D2,D5 L3\n",
      "1 2 1\n",
      "0.5\n",
      "--------------------------------\n",
      "T3,T8 D2 L3\n",
      "2 1 1\n",
      "0.5\n",
      "--------------------------------\n",
      "T3 D3,D5 L3\n",
      "1 2 1\n",
      "0.5\n",
      "--------------------------------\n",
      "T3,T8 D3,D2,D5 L3\n",
      "2 3 1\n",
      "0.16666666666666666\n",
      "--------------------------------\n",
      "T3,T8 D2 L3\n",
      "2 1 1\n",
      "0.5\n",
      "--------------------------------\n"
     ]
    },
    {
     "name": "stderr",
     "output_type": "stream",
     "text": [
      "559it [00:01, 481.87it/s]"
     ]
    },
    {
     "name": "stdout",
     "output_type": "stream",
     "text": [
      "T8 D2,D5 L3\n",
      "1 2 1\n",
      "0.5\n",
      "--------------------------------\n",
      "T8 D2,D5 L3\n",
      "1 2 1\n",
      "0.5\n",
      "--------------------------------\n",
      "T8 D5,D2,D3 L3\n",
      "1 3 1\n",
      "0.3333333333333333\n",
      "--------------------------------\n",
      "T8 D3,D5 L3\n",
      "1 2 1\n",
      "0.5\n",
      "--------------------------------\n"
     ]
    },
    {
     "name": "stderr",
     "output_type": "stream",
     "text": [
      "756it [00:01, 463.18it/s]"
     ]
    },
    {
     "name": "stdout",
     "output_type": "stream",
     "text": [
      "T8 D3,D5 L3\n",
      "1 2 1\n",
      "0.5\n",
      "--------------------------------\n",
      "T3,T8 D2,D5 L3\n",
      "2 2 1\n",
      "0.25\n",
      "--------------------------------\n",
      "T3,T8 D2,D3 L3\n",
      "2 2 1\n",
      "0.25\n",
      "--------------------------------\n",
      "T3 D2,D5 L3\n",
      "1 2 1\n",
      "0.5\n",
      "--------------------------------\n",
      "T3,T8 D3,D5 L3\n",
      "2 2 1\n",
      "0.25\n",
      "--------------------------------\n",
      "T3,T8 D2 L3\n",
      "2 1 1\n",
      "0.5\n",
      "--------------------------------\n",
      "T3,T8 D5 L3\n",
      "2 1 1\n",
      "0.5\n",
      "--------------------------------\n",
      "T3,T8 D2 L3\n",
      "2 1 1\n",
      "0.5\n",
      "--------------------------------\n"
     ]
    },
    {
     "name": "stderr",
     "output_type": "stream",
     "text": [
      "851it [00:01, 463.78it/s]"
     ]
    },
    {
     "name": "stdout",
     "output_type": "stream",
     "text": [
      "T8 D3,D5 L3\n",
      "1 2 1\n",
      "0.5\n",
      "--------------------------------\n",
      "T8 D3,D5 L3\n",
      "1 2 1\n",
      "0.5\n",
      "--------------------------------\n",
      "T8 D2,D5 L3\n",
      "1 2 1\n",
      "0.5\n",
      "--------------------------------\n",
      "T8 D3,D5 L3\n",
      "1 2 1\n",
      "0.5\n",
      "--------------------------------\n",
      "T8 D2,D5 L3\n",
      "1 2 1\n",
      "0.5\n",
      "--------------------------------\n",
      "T8 D2,D5 L3\n",
      "1 2 1\n",
      "0.5\n",
      "--------------------------------\n"
     ]
    },
    {
     "name": "stderr",
     "output_type": "stream",
     "text": [
      "1000it [00:02, 454.39it/s]"
     ]
    },
    {
     "name": "stdout",
     "output_type": "stream",
     "text": [
      "T8 D2,D5 L3\n",
      "1 2 1\n",
      "0.5\n",
      "--------------------------------\n",
      "T9 D3,D4 L2\n",
      "1 2 1\n",
      "0.5\n",
      "--------------------------------\n",
      "T8 D2,D3 L3\n",
      "1 2 1\n",
      "0.5\n",
      "--------------------------------\n",
      "count\n",
      "0.0    360\n",
      "Name: count, dtype: int64\n",
      "7838\n",
      "1000\n"
     ]
    },
    {
     "name": "stderr",
     "output_type": "stream",
     "text": [
      "\n"
     ]
    }
   ],
   "source": [
    "i = 0\n",
    "y=0 \n",
    "for index, row in tqdm(df_midm_mini.iterrows()):\n",
    "    y+=1\n",
    "    T = row['task']\n",
    "    D = row['domain']\n",
    "    L = row['level']\n",
    "\n",
    "    increamental_count = 1 / (len(T) * len(D) * len(L))\n",
    "    Tn = T.count(\",\") + 1\n",
    "    Dn = D.count(\",\") + 1\n",
    "    Ln = L.count(\",\") + 1\n",
    "    \n",
    "    increamental_count = 1 / (Tn * Dn * Ln)\n",
    "    if Tn > 1 or Dn > 1 or Ln > 1:\n",
    "        print(T, D, L)\n",
    "        print(Tn, Dn, Ln)\n",
    "        print(increamental_count)\n",
    "        print(\"--------------------------------\")\n",
    "        continue\n",
    "    for t_to_count, d_to_count, l_to_count in itertools.product(T, D, L):\n",
    "        i += 1\n",
    "        mask = (\n",
    "            (df_tld['T'] == t_to_count) &\n",
    "            (df_tld['D'] == d_to_count) &\n",
    "            (df_tld['L'] == l_to_count)\n",
    "        )\n",
    "        df_tld.loc[mask, 'count'] += increamental_count\n",
    "\n",
    "print(df_tld['count'].value_counts())\n",
    "print(i)\n",
    "print(y)"
   ]
  },
  {
   "cell_type": "markdown",
   "id": "76912471",
   "metadata": {},
   "source": [
    "### TLDC 별 데이터 분포 \n",
    "\n"
   ]
  },
  {
   "cell_type": "code",
   "execution_count": 385,
   "id": "df2508b7",
   "metadata": {},
   "outputs": [],
   "source": [
    "#df_heat = df_matrix.pivot_table(index=['task', 'level'], columns='domain', values='count')\n",
    "#df = df_matrix.groupby(['task', 'level', 'domain']).size().reset_index(name='count')\n",
    "#df.head(13)\n",
    "\n",
    "\n",
    "# fig = plt.figure(figsize=(8,8))\n",
    "# fig.set_facecolor('white')\n",
    "\n",
    "df_matrix = pd.crosstab(\n",
    "    index = df_matrix['domain'],\n",
    "    columns = df_matrix['task']\n",
    ")\n",
    "\n",
    "df_matrix.head(3)\n",
    "\n",
    "# heat_domain = sns.heatmap(\n",
    "#      data = df_matrix.corr(numeric_only=True),\n",
    "#      annot=True,\n",
    "#      cmap='coolwarm',\n",
    "#      vmin=-1,\n",
    "#      vmax=1,\n",
    "#      center=0,\n",
    "#      square=True,\n",
    "#      linewidths=0.5,\n",
    "# )\n",
    "\n",
    "# x축 위에 표시\n",
    "# heat_domain.xaxis.tick_top()\n",
    "\n",
    "# 차트 크기 조정\n",
    "# fig, ax = plt.subplots(1, 1, figsize=(8,5)) #그래프 크기 조정\n",
    "\n",
    "\n",
    "# 히트맵 이미지 저장\n",
    "# heat_domain.figure.savefig(\"heat_domain.png\")\n",
    " \n",
    "plt.show()"
   ]
  },
  {
   "cell_type": "code",
   "execution_count": 293,
   "id": "013f38d1",
   "metadata": {},
   "outputs": [
    {
     "data": {
      "text/plain": [
       "domain\n",
       "D8                                                       907\n",
       "D2                                                       564\n",
       "D5                                                       562\n",
       "D3                                                       551\n",
       "D4                                                       249\n",
       "                                                        ... \n",
       "D2\\n\\n이 질문은 일본의 경제 정책, 통화 가치 조정, 국제 기구와의 협력                1\n",
       "D2\\n\\n주식과 채권을 사용한 복제 포트폴리오 구성과 관련된 질문은 금융공학, 포트폴리오 이론      1\n",
       "D2\\n\\n이 질문은 금융 파생상품인 ATM 스왑션(ATM Swaption)의 차익             1\n",
       "D3\\n\\n이 질문은 확률론과 금융수학에서 사용되는 위험 척도(risk measure)에          1\n",
       "D4,D9                                                      1\n",
       "Name: count, Length: 91, dtype: int64"
      ]
     },
     "execution_count": 293,
     "metadata": {},
     "output_type": "execute_result"
    }
   ],
   "source": [
    "df_matrix['domain'].value_counts()"
   ]
  },
  {
   "cell_type": "code",
   "execution_count": null,
   "id": "ac5f430e",
   "metadata": {},
   "outputs": [
    {
     "ename": "KeyError",
     "evalue": "'task'",
     "output_type": "error",
     "traceback": [
      "\u001b[31m---------------------------------------------------------------------------\u001b[39m",
      "\u001b[31mKeyError\u001b[39m                                  Traceback (most recent call last)",
      "\u001b[36mCell\u001b[39m\u001b[36m \u001b[39m\u001b[32mIn[288]\u001b[39m\u001b[32m, line 4\u001b[39m\n\u001b[32m      1\u001b[39m df_matrix\n\u001b[32m      3\u001b[39m x = [\u001b[33mf\u001b[39m\u001b[33m\"\u001b[39m\u001b[38;5;132;01m{\u001b[39;00mtask_label\u001b[38;5;132;01m}\u001b[39;00m\u001b[33m\"\u001b[39m \u001b[38;5;28;01mfor\u001b[39;00m task_label \u001b[38;5;129;01min\u001b[39;00m df_matrix]\n\u001b[32m----> \u001b[39m\u001b[32m4\u001b[39m y = [\u001b[43mdf_tld\u001b[49m\u001b[43m.\u001b[49m\u001b[43mgroupby\u001b[49m\u001b[43m(\u001b[49m\u001b[33;43m'\u001b[39;49m\u001b[33;43mtask\u001b[39;49m\u001b[33;43m'\u001b[39;49m\u001b[43m)\u001b[49m[\u001b[33m'\u001b[39m\u001b[33mcount\u001b[39m\u001b[33m'\u001b[39m].sum()[task_label] \u001b[38;5;28;01mfor\u001b[39;00m task_label \u001b[38;5;129;01min\u001b[39;00m df_matrix]\n\u001b[32m      6\u001b[39m plt.figure(figsize=(\u001b[32m5\u001b[39m, \u001b[32m3\u001b[39m))\n\u001b[32m      7\u001b[39m plt.bar(x, y, color=\u001b[33m'\u001b[39m\u001b[33mskyblue\u001b[39m\u001b[33m'\u001b[39m)\n",
      "\u001b[36mFile \u001b[39m\u001b[32m/Library/Frameworks/Python.framework/Versions/3.13/lib/python3.13/site-packages/pandas/core/frame.py:9183\u001b[39m, in \u001b[36mDataFrame.groupby\u001b[39m\u001b[34m(self, by, axis, level, as_index, sort, group_keys, observed, dropna)\u001b[39m\n\u001b[32m   9180\u001b[39m \u001b[38;5;28;01mif\u001b[39;00m level \u001b[38;5;129;01mis\u001b[39;00m \u001b[38;5;28;01mNone\u001b[39;00m \u001b[38;5;129;01mand\u001b[39;00m by \u001b[38;5;129;01mis\u001b[39;00m \u001b[38;5;28;01mNone\u001b[39;00m:\n\u001b[32m   9181\u001b[39m     \u001b[38;5;28;01mraise\u001b[39;00m \u001b[38;5;167;01mTypeError\u001b[39;00m(\u001b[33m\"\u001b[39m\u001b[33mYou have to supply one of \u001b[39m\u001b[33m'\u001b[39m\u001b[33mby\u001b[39m\u001b[33m'\u001b[39m\u001b[33m and \u001b[39m\u001b[33m'\u001b[39m\u001b[33mlevel\u001b[39m\u001b[33m'\u001b[39m\u001b[33m\"\u001b[39m)\n\u001b[32m-> \u001b[39m\u001b[32m9183\u001b[39m \u001b[38;5;28;01mreturn\u001b[39;00m \u001b[43mDataFrameGroupBy\u001b[49m\u001b[43m(\u001b[49m\n\u001b[32m   9184\u001b[39m \u001b[43m    \u001b[49m\u001b[43mobj\u001b[49m\u001b[43m=\u001b[49m\u001b[38;5;28;43mself\u001b[39;49m\u001b[43m,\u001b[49m\n\u001b[32m   9185\u001b[39m \u001b[43m    \u001b[49m\u001b[43mkeys\u001b[49m\u001b[43m=\u001b[49m\u001b[43mby\u001b[49m\u001b[43m,\u001b[49m\n\u001b[32m   9186\u001b[39m \u001b[43m    \u001b[49m\u001b[43maxis\u001b[49m\u001b[43m=\u001b[49m\u001b[43maxis\u001b[49m\u001b[43m,\u001b[49m\n\u001b[32m   9187\u001b[39m \u001b[43m    \u001b[49m\u001b[43mlevel\u001b[49m\u001b[43m=\u001b[49m\u001b[43mlevel\u001b[49m\u001b[43m,\u001b[49m\n\u001b[32m   9188\u001b[39m \u001b[43m    \u001b[49m\u001b[43mas_index\u001b[49m\u001b[43m=\u001b[49m\u001b[43mas_index\u001b[49m\u001b[43m,\u001b[49m\n\u001b[32m   9189\u001b[39m \u001b[43m    \u001b[49m\u001b[43msort\u001b[49m\u001b[43m=\u001b[49m\u001b[43msort\u001b[49m\u001b[43m,\u001b[49m\n\u001b[32m   9190\u001b[39m \u001b[43m    \u001b[49m\u001b[43mgroup_keys\u001b[49m\u001b[43m=\u001b[49m\u001b[43mgroup_keys\u001b[49m\u001b[43m,\u001b[49m\n\u001b[32m   9191\u001b[39m \u001b[43m    \u001b[49m\u001b[43mobserved\u001b[49m\u001b[43m=\u001b[49m\u001b[43mobserved\u001b[49m\u001b[43m,\u001b[49m\n\u001b[32m   9192\u001b[39m \u001b[43m    \u001b[49m\u001b[43mdropna\u001b[49m\u001b[43m=\u001b[49m\u001b[43mdropna\u001b[49m\u001b[43m,\u001b[49m\n\u001b[32m   9193\u001b[39m \u001b[43m\u001b[49m\u001b[43m)\u001b[49m\n",
      "\u001b[36mFile \u001b[39m\u001b[32m/Library/Frameworks/Python.framework/Versions/3.13/lib/python3.13/site-packages/pandas/core/groupby/groupby.py:1329\u001b[39m, in \u001b[36mGroupBy.__init__\u001b[39m\u001b[34m(self, obj, keys, axis, level, grouper, exclusions, selection, as_index, sort, group_keys, observed, dropna)\u001b[39m\n\u001b[32m   1326\u001b[39m \u001b[38;5;28mself\u001b[39m.dropna = dropna\n\u001b[32m   1328\u001b[39m \u001b[38;5;28;01mif\u001b[39;00m grouper \u001b[38;5;129;01mis\u001b[39;00m \u001b[38;5;28;01mNone\u001b[39;00m:\n\u001b[32m-> \u001b[39m\u001b[32m1329\u001b[39m     grouper, exclusions, obj = \u001b[43mget_grouper\u001b[49m\u001b[43m(\u001b[49m\n\u001b[32m   1330\u001b[39m \u001b[43m        \u001b[49m\u001b[43mobj\u001b[49m\u001b[43m,\u001b[49m\n\u001b[32m   1331\u001b[39m \u001b[43m        \u001b[49m\u001b[43mkeys\u001b[49m\u001b[43m,\u001b[49m\n\u001b[32m   1332\u001b[39m \u001b[43m        \u001b[49m\u001b[43maxis\u001b[49m\u001b[43m=\u001b[49m\u001b[43maxis\u001b[49m\u001b[43m,\u001b[49m\n\u001b[32m   1333\u001b[39m \u001b[43m        \u001b[49m\u001b[43mlevel\u001b[49m\u001b[43m=\u001b[49m\u001b[43mlevel\u001b[49m\u001b[43m,\u001b[49m\n\u001b[32m   1334\u001b[39m \u001b[43m        \u001b[49m\u001b[43msort\u001b[49m\u001b[43m=\u001b[49m\u001b[43msort\u001b[49m\u001b[43m,\u001b[49m\n\u001b[32m   1335\u001b[39m \u001b[43m        \u001b[49m\u001b[43mobserved\u001b[49m\u001b[43m=\u001b[49m\u001b[38;5;28;43;01mFalse\u001b[39;49;00m\u001b[43m \u001b[49m\u001b[38;5;28;43;01mif\u001b[39;49;00m\u001b[43m \u001b[49m\u001b[43mobserved\u001b[49m\u001b[43m \u001b[49m\u001b[38;5;129;43;01mis\u001b[39;49;00m\u001b[43m \u001b[49m\u001b[43mlib\u001b[49m\u001b[43m.\u001b[49m\u001b[43mno_default\u001b[49m\u001b[43m \u001b[49m\u001b[38;5;28;43;01melse\u001b[39;49;00m\u001b[43m \u001b[49m\u001b[43mobserved\u001b[49m\u001b[43m,\u001b[49m\n\u001b[32m   1336\u001b[39m \u001b[43m        \u001b[49m\u001b[43mdropna\u001b[49m\u001b[43m=\u001b[49m\u001b[38;5;28;43mself\u001b[39;49m\u001b[43m.\u001b[49m\u001b[43mdropna\u001b[49m\u001b[43m,\u001b[49m\n\u001b[32m   1337\u001b[39m \u001b[43m    \u001b[49m\u001b[43m)\u001b[49m\n\u001b[32m   1339\u001b[39m \u001b[38;5;28;01mif\u001b[39;00m observed \u001b[38;5;129;01mis\u001b[39;00m lib.no_default:\n\u001b[32m   1340\u001b[39m     \u001b[38;5;28;01mif\u001b[39;00m \u001b[38;5;28many\u001b[39m(ping._passed_categorical \u001b[38;5;28;01mfor\u001b[39;00m ping \u001b[38;5;129;01min\u001b[39;00m grouper.groupings):\n",
      "\u001b[36mFile \u001b[39m\u001b[32m/Library/Frameworks/Python.framework/Versions/3.13/lib/python3.13/site-packages/pandas/core/groupby/grouper.py:1043\u001b[39m, in \u001b[36mget_grouper\u001b[39m\u001b[34m(obj, key, axis, level, sort, observed, validate, dropna)\u001b[39m\n\u001b[32m   1041\u001b[39m         in_axis, level, gpr = \u001b[38;5;28;01mFalse\u001b[39;00m, gpr, \u001b[38;5;28;01mNone\u001b[39;00m\n\u001b[32m   1042\u001b[39m     \u001b[38;5;28;01melse\u001b[39;00m:\n\u001b[32m-> \u001b[39m\u001b[32m1043\u001b[39m         \u001b[38;5;28;01mraise\u001b[39;00m \u001b[38;5;167;01mKeyError\u001b[39;00m(gpr)\n\u001b[32m   1044\u001b[39m \u001b[38;5;28;01melif\u001b[39;00m \u001b[38;5;28misinstance\u001b[39m(gpr, Grouper) \u001b[38;5;129;01mand\u001b[39;00m gpr.key \u001b[38;5;129;01mis\u001b[39;00m \u001b[38;5;129;01mnot\u001b[39;00m \u001b[38;5;28;01mNone\u001b[39;00m:\n\u001b[32m   1045\u001b[39m     \u001b[38;5;66;03m# Add key to exclusions\u001b[39;00m\n\u001b[32m   1046\u001b[39m     exclusions.add(gpr.key)\n",
      "\u001b[31mKeyError\u001b[39m: 'task'"
     ]
    }
   ],
   "source": [
    "\n",
    "\n",
    "x = [f\"{task_label}\" for task_label in df_matrix]\n",
    "y = [df_tld.groupby('task')['count'].sum()[task_label] for task_label in df_matrix]\n",
    "\n",
    "plt.figure(figsize=(5, 3))\n",
    "plt.bar(x, y, color='skyblue')\n",
    "plt.title('Bar Chart of # of Task Labels')\n",
    "plt.xlabel('Task')\n",
    "plt.ylabel('Value')\n",
    "plt.xticks(rotation=45)\n",
    "plt.grid(axis='y', linestyle='--', alpha=0.7)\n",
    "plt.tight_layout()\n",
    "plt.show()"
   ]
  },
  {
   "cell_type": "code",
   "execution_count": 268,
   "id": "383197dd",
   "metadata": {},
   "outputs": [
    {
     "data": {
      "image/png": "[encoded data removed]",
      "text/plain": [
       "<Figure size 1000x600 with 1 Axes>"
      ]
     },
     "metadata": {},
     "output_type": "display_data"
    }
   ],
   "source": [
    "x = [f\"{domain_label}\" for domain_label in list_domain_label]\n",
    "y = [df_tld.groupby('D')['count'].sum()[domain_label] for domain_label in list_domain_label]\n",
    "\n",
    "plt.figure(figsize=(10, 6))\n",
    "plt.bar(x, y, color='orange')\n",
    "plt.title('Bar Chart of # of Domain Labels')\n",
    "plt.xlabel('Domain')\n",
    "plt.ylabel('Value')\n",
    "plt.xticks(rotation=45)\n",
    "plt.grid(axis='y', linestyle='--', alpha=0.7)\n",
    "plt.tight_layout()\n",
    "plt.show()"
   ]
  },
  {
   "cell_type": "markdown",
   "id": "fcf227b5",
   "metadata": {},
   "source": [
    "### TLDC별 합산스코어 분포"
   ]
  },
  {
   "cell_type": "markdown",
   "id": "4b3c4abc",
   "metadata": {},
   "source": [
    "\n",
    "### 평가기준별 데이터분포\n",
    "#### 평가기준별 스코어분포\n",
    "\n"
   ]
  },
  {
   "cell_type": "markdown",
   "id": "cf7c5f4e",
   "metadata": {},
   "source": [
    "## 3. LLM 품질 Matrics"
   ]
  },
  {
   "cell_type": "markdown",
   "id": "c24d9286",
   "metadata": {},
   "source": [
    "### 최종 모델별 품질 Matrics\n",
    "#### 품질\n",
    "#### 비용\n",
    "#### 최적화(KORA)"
   ]
  },
  {
   "cell_type": "code",
   "execution_count": 186,
   "id": "0d3e3793",
   "metadata": {},
   "outputs": [
    {
     "name": "stdout",
     "output_type": "stream",
     "text": [
      "D        D1  D10   D2   D3   D4   D5   D6   D7   D8   D9\n",
      "T   L                                                   \n",
      "T1  L1  0.0  0.0  0.0  0.0  0.0  0.0  0.0  0.0  0.0  0.0\n",
      "    L2  0.0  0.0  0.0  0.0  0.0  0.0  0.0  0.0  0.0  0.0\n",
      "    L3  0.0  0.0  0.0  0.0  0.0  0.0  0.0  0.0  0.0  0.0\n",
      "T10 L1  0.0  0.0  0.0  0.0  0.0  0.0  0.0  0.0  0.0  0.0\n",
      "    L2  0.0  0.0  0.0  0.0  0.0  0.0  0.0  0.0  0.0  0.0\n",
      "    L3  0.0  0.0  0.0  0.0  0.0  0.0  0.0  0.0  0.0  0.0\n",
      "T11 L1  0.0  0.0  0.0  0.0  0.0  0.0  0.0  0.0  0.0  0.0\n",
      "    L2  0.0  0.0  0.0  0.0  0.0  0.0  0.0  0.0  0.0  0.0\n",
      "    L3  0.0  0.0  0.0  0.0  0.0  0.0  0.0  0.0  0.0  0.0\n",
      "T12 L1  0.0  0.0  0.0  0.0  0.0  0.0  0.0  0.0  0.0  0.0\n",
      "    L2  0.0  0.0  0.0  0.0  0.0  0.0  0.0  0.0  0.0  0.0\n",
      "    L3  0.0  0.0  0.0  0.0  0.0  0.0  0.0  0.0  0.0  0.0\n",
      "T2  L1  0.0  0.0  0.0  0.0  0.0  0.0  0.0  0.0  0.0  0.0\n",
      "    L2  0.0  0.0  0.0  0.0  0.0  0.0  0.0  0.0  0.0  0.0\n",
      "    L3  0.0  0.0  0.0  0.0  0.0  0.0  0.0  0.0  0.0  0.0\n",
      "T3  L1  0.0  0.0  0.0  0.0  0.0  0.0  0.0  0.0  0.0  0.0\n",
      "    L2  0.0  0.0  0.0  0.0  0.0  0.0  0.0  0.0  0.0  0.0\n",
      "    L3  0.0  0.0  0.0  0.0  0.0  0.0  0.0  0.0  0.0  0.0\n",
      "T4  L1  0.0  0.0  0.0  0.0  0.0  0.0  0.0  0.0  0.0  0.0\n",
      "    L2  0.0  0.0  0.0  0.0  0.0  0.0  0.0  0.0  0.0  0.0\n",
      "    L3  0.0  0.0  0.0  0.0  0.0  0.0  0.0  0.0  0.0  0.0\n",
      "T5  L1  0.0  0.0  0.0  0.0  0.0  0.0  0.0  0.0  0.0  0.0\n",
      "    L2  0.0  0.0  0.0  0.0  0.0  0.0  0.0  0.0  0.0  0.0\n",
      "    L3  0.0  0.0  0.0  0.0  0.0  0.0  0.0  0.0  0.0  0.0\n",
      "T6  L1  0.0  0.0  0.0  0.0  0.0  0.0  0.0  0.0  0.0  0.0\n",
      "    L2  0.0  0.0  0.0  0.0  0.0  0.0  0.0  0.0  0.0  0.0\n",
      "    L3  0.0  0.0  0.0  0.0  0.0  0.0  0.0  0.0  0.0  0.0\n",
      "T7  L1  0.0  0.0  0.0  0.0  0.0  0.0  0.0  0.0  0.0  0.0\n",
      "    L2  0.0  0.0  0.0  0.0  0.0  0.0  0.0  0.0  0.0  0.0\n",
      "    L3  0.0  0.0  0.0  0.0  0.0  0.0  0.0  0.0  0.0  0.0\n",
      "T8  L1  0.0  0.0  0.0  0.0  0.0  0.0  0.0  0.0  0.0  0.0\n",
      "    L2  0.0  0.0  0.0  0.0  0.0  0.0  0.0  0.0  0.0  0.0\n",
      "    L3  0.0  0.0  0.0  0.0  0.0  0.0  0.0  0.0  0.0  0.0\n",
      "T9  L1  0.0  0.0  0.0  0.0  0.0  0.0  0.0  0.0  0.0  0.0\n",
      "    L2  0.0  0.0  0.0  0.0  0.0  0.0  0.0  0.0  0.0  0.0\n",
      "    L3  0.0  0.0  0.0  0.0  0.0  0.0  0.0  0.0  0.0  0.0\n"
     ]
    }
   ],
   "source": [
    "pivot_df = df_tld.pivot_table(index=['T','L'], columns=['D'], values='count', fill_value=0)\n",
    "\n",
    "print(pivot_df)"
   ]
  },
  {
   "cell_type": "code",
   "execution_count": 187,
   "id": "719f0acd",
   "metadata": {},
   "outputs": [],
   "source": [
    "df_tld['count'] = df_tld['count'].map(lambda x: 0 if x < 1 else int(x))"
   ]
  },
  {
   "cell_type": "code",
   "execution_count": 188,
   "id": "8218c1e0",
   "metadata": {},
   "outputs": [
    {
     "name": "stderr",
     "output_type": "stream",
     "text": [
      "<>:15: SyntaxWarning: invalid escape sequence '\\d'\n",
      "<>:15: SyntaxWarning: invalid escape sequence '\\d'\n",
      "/var/folders/6d/l826_sjd2cj56sdctgdqv8zw0000gn/T/ipykernel_50885/410446060.py:15: SyntaxWarning: invalid escape sequence '\\d'\n",
      "  return [int(c) if c.isdigit() else c for c in re.split('(\\d+)', text)]\n"
     ]
    },
    {
     "data": {
      "image/png": "[encoded data removed]",
      "text/plain": [
       "<Figure size 1000x800 with 2 Axes>"
      ]
     },
     "metadata": {},
     "output_type": "display_data"
    }
   ],
   "source": [
    "from matplotlib.colors import LinearSegmentedColormap\n",
    "\n",
    "# 0은 흰색, 그 이후는 YlOrRd 그대로 쓰기\n",
    "orig_cmap = sns.color_palette(\"YlOrRd\", as_cmap=True)\n",
    "colors = [(1, 1, 1)] + [orig_cmap(i) for i in np.linspace(0, 1, 255)[1:]]  # 첫 색만 흰색으로\n",
    "custom_cmap = LinearSegmentedColormap.from_list(\"custom_YlOrRd\", colors, N=256)\n",
    "\n",
    "# NaN용 색 설정\n",
    "custom_cmap.set_bad(\"lightgray\")\n",
    "\n",
    "\n",
    "\n",
    "# 자연 정렬 함수\n",
    "def natural_key(text):\n",
    "    return [int(c) if c.isdigit() else c for c in re.split('(\\d+)', text)]\n",
    "\n",
    "# pivot (fill_value 제거!)\n",
    "pivot_df = df_tld.pivot_table(index=['T', 'L'], columns='D', values='count')  # NaN 남김\n",
    "\n",
    "# 정렬\n",
    "t_vals = [t for t, l in pivot_df.index]\n",
    "sorted_idx = sorted(range(len(t_vals)), key=lambda i: natural_key(t_vals[i]))\n",
    "sorted_columns = sorted(pivot_df.columns, key=lambda x: natural_key(x))\n",
    "pivot_df_sorted = pivot_df.iloc[sorted_idx][sorted_columns]\n",
    "\n",
    "# mask (NaN)\n",
    "mask = pivot_df_sorted.isna()\n",
    "\n",
    "# annot 생성: 0, NaN 은 공백\n",
    "annot = pivot_df_sorted.copy()\n",
    "annot = annot.fillna(0).astype(int).astype(str)\n",
    "annot = annot.mask(pivot_df_sorted == 0, \"\")\n",
    "annot = annot.mask(mask, \"\")\n",
    "\n",
    "# T, L 분리\n",
    "T_vals = [t for t, l in pivot_df_sorted.index]\n",
    "L_vals = [l for t, l in pivot_df_sorted.index]\n",
    "\n",
    "# 컬러맵: 0은 흰색, NaN은 회색\n",
    "cmap = sns.color_palette(\"YlOrRd\", as_cmap=True)\n",
    "cmap.set_bad(\"lightgray\")\n",
    "\n",
    "# plot\n",
    "plt.figure(figsize=(10, 8))\n",
    "ax = sns.heatmap(\n",
    "    pivot_df_sorted,\n",
    "    annot=annot,\n",
    "    fmt=\"\",\n",
    "    cmap=custom_cmap,\n",
    "    mask=mask,\n",
    "    cbar=True,\n",
    "    yticklabels=False,\n",
    "    cbar_kws={'shrink': 0.6},\n",
    "    vmin=0\n",
    ")\n",
    "\n",
    "# T/L 레이블 수동 삽입\n",
    "y_pos = np.arange(len(T_vals)) + 0.5\n",
    "prev_t = None\n",
    "for i, (t, l) in enumerate(zip(T_vals, L_vals)):\n",
    "    t_text = t if t != prev_t else \"\"\n",
    "    ax.text(-0.6, y_pos[i], t_text, va='center', ha='right', fontsize=10, fontweight='bold')\n",
    "    ax.text(-0.1, y_pos[i], l, va='center', ha='right', fontsize=10, fontweight='bold')\n",
    "    prev_t = t\n",
    "\n",
    "# x축 레이블 bold\n",
    "for label in ax.get_xticklabels():\n",
    "    label.set_fontweight('bold')\n",
    "\n",
    "# 구분선\n",
    "t_change_idx = [i for i in range(1, len(T_vals)) if T_vals[i] != T_vals[i-1]]\n",
    "l_change_idx = [i for i in range(1, len(L_vals)) if L_vals[i] != L_vals[i-1]]\n",
    "for y in t_change_idx:\n",
    "    ax.hlines(y, *ax.get_xlim(), colors='black', linewidth=1)\n",
    "for y in l_change_idx:\n",
    "    if y not in t_change_idx:\n",
    "        ax.hlines(y, *ax.get_xlim(), colors='gray', linestyles='dotted', linewidth=1)\n",
    "\n",
    "# x축 세로선\n",
    "n_cols = len(pivot_df_sorted.columns)\n",
    "for x in range(1, n_cols):\n",
    "    ax.vlines(x, *ax.get_ylim(), colors='lightgray', linewidth=1)\n",
    "\n",
    "# 라벨 및 타이틀\n",
    "ax.set_ylabel(\"\")\n",
    "ax.set_xlabel(\"Domain\", fontsize=11, fontweight='bold')\n",
    "plt.title(\"TLDC\", pad=20)\n",
    "plt.tight_layout()\n",
    "plt.show()"
   ]
  },
  {
   "cell_type": "code",
   "execution_count": 189,
   "id": "10246655",
   "metadata": {},
   "outputs": [
    {
     "ename": "NameError",
     "evalue": "name '__file__' is not defined",
     "output_type": "error",
     "traceback": [
      "\u001b[31m---------------------------------------------------------------------------\u001b[39m",
      "\u001b[31mNameError\u001b[39m                                 Traceback (most recent call last)",
      "\u001b[36mCell\u001b[39m\u001b[36m \u001b[39m\u001b[32mIn[189]\u001b[39m\u001b[32m, line 9\u001b[39m\n\u001b[32m      6\u001b[39m \u001b[38;5;28;01mimport\u001b[39;00m\u001b[38;5;250m \u001b[39m\u001b[34;01mjson\u001b[39;00m\n\u001b[32m      7\u001b[39m \u001b[38;5;28;01mimport\u001b[39;00m\u001b[38;5;250m \u001b[39m\u001b[34;01mos\u001b[39;00m\n\u001b[32m----> \u001b[39m\u001b[32m9\u001b[39m dataset_dir = os.path.join(os.path.dirname(\u001b[34;43m__file__\u001b[39;49m), \u001b[33m'\u001b[39m\u001b[33m..\u001b[39m\u001b[33m'\u001b[39m, \u001b[33m'\u001b[39m\u001b[33mdataset\u001b[39m\u001b[33m'\u001b[39m)\n\u001b[32m     10\u001b[39m result_files = [f \u001b[38;5;28;01mfor\u001b[39;00m f \u001b[38;5;129;01min\u001b[39;00m os.listdir(dataset_dir) \u001b[38;5;28;01mif\u001b[39;00m f.startswith(\u001b[33m'\u001b[39m\u001b[33meval_results_\u001b[39m\u001b[33m'\u001b[39m) \u001b[38;5;129;01mand\u001b[39;00m f.endswith(\u001b[33m'\u001b[39m\u001b[33m.json\u001b[39m\u001b[33m'\u001b[39m)]\n\u001b[32m     12\u001b[39m \u001b[38;5;28;01mif\u001b[39;00m \u001b[38;5;129;01mnot\u001b[39;00m result_files:\n",
      "\u001b[31mNameError\u001b[39m: name '__file__' is not defined"
     ]
    }
   ],
   "source": [
    "import streamlit as st\n",
    "import pandas as pd\n",
    "import numpy as np\n",
    "import seaborn as sns\n",
    "import matplotlib.pyplot as plt\n",
    "import json\n",
    "import os\n",
    "\n",
    "dataset_dir = os.path.join(os.path.dirname(__file__), '..', 'dataset')\n",
    "result_files = [f for f in os.listdir(dataset_dir) if f.startswith('eval_results_') and f.endswith('.json')]\n",
    "\n",
    "if not result_files:\n",
    "    st.error('평가 결과 파일이 없습니다.')\n",
    "    st.stop()\n",
    "\n",
    "result_file = st.selectbox('결과 파일 선택', result_files)\n",
    "RESULT_PATH = os.path.join(dataset_dir, result_file)\n",
    "\n",
    "# 데이터 로드\n",
    "with open(RESULT_PATH, encoding='utf-8') as f:\n",
    "    results = json.load(f)\n",
    "\n",
    "# D1~D12, T1~T11 정의\n",
    "domains = [f'D{i}' for i in range(1, 11)]\n",
    "tasks = [f'T{i}' for i in range(1, 12)]\n",
    "levels = ['1', '2', '3']\n",
    "\n",
    "# 모델 선택\n",
    "model_names = sorted(list(set(r['model'] for r in results)))\n",
    "model = st.selectbox(\"모델 선택\", model_names)"
   ]
  },
  {
   "cell_type": "code",
   "execution_count": null,
   "id": "212728bb",
   "metadata": {},
   "outputs": [],
   "source": []
  }
 ],
 "metadata": {
  "kernelspec": {
   "display_name": "Python 3",
   "language": "python",
   "name": "python3"
  },
  "language_info": {
   "codemirror_mode": {
    "name": "ipython",
    "version": 3
   },
   "file_extension": ".py",
   "mimetype": "text/x-python",
   "name": "python",
   "nbconvert_exporter": "python",
   "pygments_lexer": "ipython3",
   "version": "3.13.2"
  }
 },
 "nbformat": 4,
 "nbformat_minor": 5
}
